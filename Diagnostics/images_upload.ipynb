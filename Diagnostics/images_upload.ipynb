{
 "cells": [
  {
   "cell_type": "code",
   "execution_count": 36,
   "metadata": {},
   "outputs": [],
   "source": [
    "### Pushes the .csv file to GitHub\n",
    "\n",
    "from selenium import webdriver\n",
    "from selenium.webdriver import ActionChains\n",
    "from selenium.common.exceptions import NoSuchElementException  \n",
    "from selenium.webdriver.common.keys import Keys\n",
    "import time\n",
    "from datetime import datetime\n",
    "\n",
    "import os"
   ]
  },
  {
   "cell_type": "code",
   "execution_count": 37,
   "metadata": {},
   "outputs": [],
   "source": [
    "URL_pre = \"https://github.com/login\"\n",
    "URL_post = \"https://github.com/QasimWani/Track-COVID/upload/master/Visualizations\""
   ]
  },
  {
   "cell_type": "code",
   "execution_count": 38,
   "metadata": {},
   "outputs": [],
   "source": [
    "def init():\n",
    "    chrome_options = webdriver.ChromeOptions()\n",
    "#     chrome_options.headless = True\n",
    "    prefs = {\"profile.default_content_setting_values.notifications\" : 2}\n",
    "    chrome_options.add_experimental_option(\"prefs\",prefs)\n",
    "    br = webdriver.Chrome(executable_path=r\"C:/Users/qasim/Downloads/chromedriver_win32_v80/chromedriver.exe\",options=chrome_options)\n",
    "    br.get(URL_pre)\n",
    "    time.sleep(3)\n",
    "    return br"
   ]
  },
  {
   "cell_type": "code",
   "execution_count": 39,
   "metadata": {},
   "outputs": [],
   "source": [
    "def find_files(PATH):\n",
    "    \"\"\"\n",
    "    Finds all the files in a particular directory. Return only .png files.\n",
    "    \"\"\"\n",
    "    files = []\n",
    "    for r, d, f in os.walk(PATH):\n",
    "        for file in f:\n",
    "            if '.png' in file:\n",
    "                files.append(os.path.join(r, file).replace(\"\\\\\",\"/\"))\n",
    "    return files"
   ]
  },
  {
   "cell_type": "code",
   "execution_count": 40,
   "metadata": {},
   "outputs": [],
   "source": [
    "file_dir = \"C:/Users/qasim/Desktop/Exigence/Track-COVID/Track-COVID/Visualizations\"\n",
    "files = find_files(file_dir)"
   ]
  },
  {
   "cell_type": "code",
   "execution_count": 41,
   "metadata": {},
   "outputs": [],
   "source": [
    "br = init()\n",
    "br.find_element_by_id(\"login_field\").send_keys(\"qasim31wani@gmail.com\")\n",
    "br.find_element_by_id(\"password\").send_keys(\"InfinitumA1\")\n",
    "button = br.find_element_by_class_name(\"btn.btn-primary.btn-block\")\n",
    "button.click()\n",
    "\n",
    "br.get(URL_post)\n",
    "time.sleep(3)"
   ]
  },
  {
   "cell_type": "code",
   "execution_count": 42,
   "metadata": {},
   "outputs": [],
   "source": [
    "for x in files[:100]:\n",
    "    br.find_element_by_id(\"upload-manifest-files-input\").send_keys(x)"
   ]
  },
  {
   "cell_type": "code",
   "execution_count": 43,
   "metadata": {},
   "outputs": [],
   "source": [
    "time.sleep(3)\n",
    "TIME = str(datetime.now())\n",
    "TIME = ':'.join(TIME.split(\":\")[:-1])\n",
    "\n",
    "br.find_element_by_id(\"commit-summary-input\").send_keys(\"auto visuals update : \" + TIME)\n",
    "\n",
    "br.find_element_by_class_name(\"btn.btn-primary.js-blob-submit\").click()"
   ]
  },
  {
   "cell_type": "code",
   "execution_count": 44,
   "metadata": {},
   "outputs": [],
   "source": [
    "time.sleep(3)"
   ]
  },
  {
   "cell_type": "code",
   "execution_count": 45,
   "metadata": {},
   "outputs": [],
   "source": [
    "br.get(URL_post)"
   ]
  },
  {
   "cell_type": "code",
   "execution_count": 46,
   "metadata": {},
   "outputs": [],
   "source": [
    "for x in files[100:]:\n",
    "    br.find_element_by_id(\"upload-manifest-files-input\").send_keys(x)"
   ]
  },
  {
   "cell_type": "code",
   "execution_count": 47,
   "metadata": {},
   "outputs": [],
   "source": [
    "time.sleep(3)\n",
    "TIME = str(datetime.now())\n",
    "TIME = ':'.join(TIME.split(\":\")[:-1])\n",
    "\n",
    "br.find_element_by_id(\"commit-summary-input\").send_keys(\"auto visuals update : \" + TIME)\n",
    "\n",
    "br.find_element_by_class_name(\"btn.btn-primary.js-blob-submit\").click()"
   ]
  },
  {
   "cell_type": "code",
   "execution_count": 48,
   "metadata": {},
   "outputs": [],
   "source": [
    "time.sleep(3)\n",
    "br.close()"
   ]
  },
  {
   "cell_type": "code",
   "execution_count": null,
   "metadata": {},
   "outputs": [],
   "source": []
  }
 ],
 "metadata": {
  "kernelspec": {
   "display_name": "Python 3",
   "language": "python",
   "name": "python3"
  },
  "language_info": {
   "codemirror_mode": {
    "name": "ipython",
    "version": 3
   },
   "file_extension": ".py",
   "mimetype": "text/x-python",
   "name": "python",
   "nbconvert_exporter": "python",
   "pygments_lexer": "ipython3",
   "version": "3.7.3"
  }
 },
 "nbformat": 4,
 "nbformat_minor": 2
}
